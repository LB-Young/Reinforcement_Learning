{
 "cells": [
  {
   "cell_type": "code",
   "execution_count": 2,
   "metadata": {},
   "outputs": [],
   "source": [
    "import gym\n",
    "import numpy as np\n",
    "import matplotlib.pyplot as plt"
   ]
  },
  {
   "cell_type": "code",
   "execution_count": 3,
   "metadata": {},
   "outputs": [],
   "source": [
    "class MazeEnv(gym.Env):\n",
    "    def __init__(self):\n",
    "        self.state = 0\n",
    "\n",
    "    def reset(self):\n",
    "        self.state = 0\n",
    "        return self.state\n",
    "    \n",
    "    def step(self, action):\n",
    "        if action == 0:\n",
    "            self.state -= 3\n",
    "        if action == 1:\n",
    "            self.state += 1\n",
    "        if action == 2:\n",
    "            self.state += 3\n",
    "        if action == 3:\n",
    "            self.state -= 1\n",
    "        done = False\n",
    "        if self.state == 8:\n",
    "            done = True\n",
    "        return self.state, 1, done, {}"
   ]
  },
  {
   "cell_type": "code",
   "execution_count": 5,
   "metadata": {},
   "outputs": [],
   "source": [
    "class Agent:\n",
    "    def __init__(self):\n",
    "        self.actions = list(range(4))\n",
    "        self.theta_0 = np.asarray(\n",
    "            [[np.nan, 1, 1, np.nan],      # s0\n",
    "            [np.nan, 1, np.nan, 1],      # s1\n",
    "            [np.nan, np.nan, 1, 1],      # s2\n",
    "            [1, np.nan, np.nan, np.nan], # s3 \n",
    "            [np.nan, 1, 1, np.nan],      # s4\n",
    "            [1, np.nan, np.nan, 1],      # s5\n",
    "            [np.nan, 1, np.nan, np.nan], # s6 \n",
    "            [1, 1, np.nan, 1]]           # s7\n",
    "        )\n",
    "        self.pi = self._cvt_theta_0_to_pi(self.theta_0)\n",
    "\n",
    "    def _cvt_theta_0_to_pi(self, theta):\n",
    "        m, n = theta.shape\n",
    "        pi = np.zeros((m, n))\n",
    "        for r in range(m):\n",
    "            pi[r, :] = theta[r, :] / np.nansum(theta[r, :])\n",
    "        return np.nan_to_num(pi)\n",
    "    \n",
    "    def choose_action(self, state):\n",
    "        action = np.random.choice(self.actions, p=self.pi[state, :])\n",
    "        return action"
   ]
  },
  {
   "cell_type": "code",
   "execution_count": 6,
   "metadata": {},
   "outputs": [
    {
     "name": "stdout",
     "output_type": "stream",
     "text": [
      "action history: [2, 0, 2, 0, 2, 0, 2, 0, 2, 0, 2, 0, 2, 0, 1, 1, 3, 3, 1, 1, 3, 1, 3, 3, 1, 3, 1, 3, 2, 0, 2, 0, 1, 1, 2, 3, 1, 3, 1, 3, 2, 0, 2, 3, 1, 1]\n",
      "state_history: [3, 0, 3, 0, 3, 0, 3, 0, 3, 0, 3, 0, 3, 0, 1, 2, 1, 0, 1, 2, 1, 2, 1, 0, 1, 0, 1, 0, 3, 0, 3, 0, 1, 2, 5, 4, 5, 4, 5, 4, 7, 4, 7, 6, 7, 8]\n"
     ]
    }
   ],
   "source": [
    "env = MazeEnv()\n",
    "state = env.reset()\n",
    "agent = Agent()\n",
    "\n",
    "done = False\n",
    "action_history = []\n",
    "state_history = []\n",
    "while not done:\n",
    "    action = agent.choose_action(state)\n",
    "    state, reward, done, _ = env.step(action)\n",
    "    action_history.append(action)\n",
    "    state_history.append(state)\n",
    "print(\"action history:\", action_history)\n",
    "print(\"state_history:\", state_history)"
   ]
  },
  {
   "cell_type": "code",
   "execution_count": null,
   "metadata": {},
   "outputs": [],
   "source": []
  }
 ],
 "metadata": {
  "kernelspec": {
   "display_name": "test310",
   "language": "python",
   "name": "python3"
  },
  "language_info": {
   "codemirror_mode": {
    "name": "ipython",
    "version": 3
   },
   "file_extension": ".py",
   "mimetype": "text/x-python",
   "name": "python",
   "nbconvert_exporter": "python",
   "pygments_lexer": "ipython3",
   "version": "3.10.13"
  }
 },
 "nbformat": 4,
 "nbformat_minor": 2
}
